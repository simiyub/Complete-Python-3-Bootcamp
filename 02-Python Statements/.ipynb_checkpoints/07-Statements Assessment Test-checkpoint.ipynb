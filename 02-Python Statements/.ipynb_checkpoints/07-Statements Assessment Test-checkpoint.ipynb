{
 "cells": [
  {
   "cell_type": "markdown",
   "metadata": {
    "collapsed": true
   },
   "source": [
    "# Statements Assessment Test\n",
    "Let's test your knowledge!"
   ]
  },
  {
   "cell_type": "markdown",
   "metadata": {},
   "source": [
    "_____\n",
    "**Use <code>for</code>, .split(), and <code>if</code> to create a Statement that will print out words that start with 's':**"
   ]
  },
  {
   "cell_type": "code",
   "execution_count": 5,
   "metadata": {},
   "outputs": [],
   "source": [
    "st = 'Print only the words that start with s in this sentence'"
   ]
  },
  {
   "cell_type": "code",
   "execution_count": 12,
   "metadata": {},
   "outputs": [
    {
     "data": {
      "text/plain": [
       "['start', 's', 'sentence']"
      ]
     },
     "execution_count": 12,
     "metadata": {},
     "output_type": "execute_result"
    }
   ],
   "source": [
    "[word for word in st.split(' ') if word.startswith('s')]        "
   ]
  },
  {
   "cell_type": "markdown",
   "metadata": {},
   "source": [
    "______\n",
    "**Use range() to print all the even numbers from 0 to 10.**"
   ]
  },
  {
   "cell_type": "code",
   "execution_count": 14,
   "metadata": {},
   "outputs": [
    {
     "data": {
      "text/plain": [
       "[0, 2, 4, 6, 8]"
      ]
     },
     "execution_count": 14,
     "metadata": {},
     "output_type": "execute_result"
    }
   ],
   "source": [
    "[number for number in range(10) if number%2==0]"
   ]
  },
  {
   "cell_type": "markdown",
   "metadata": {},
   "source": [
    "___\n",
    "**Use a List Comprehension to create a list of all numbers between 1 and 50 that are divisible by 3.**"
   ]
  },
  {
   "cell_type": "code",
   "execution_count": 15,
   "metadata": {},
   "outputs": [
    {
     "data": {
      "text/plain": [
       "[0, 3, 6, 9, 12, 15, 18, 21, 24, 27, 30, 33, 36, 39, 42, 45, 48]"
      ]
     },
     "execution_count": 15,
     "metadata": {},
     "output_type": "execute_result"
    }
   ],
   "source": [
    "[number for number in range(50) if number%3 == 0]"
   ]
  },
  {
   "cell_type": "markdown",
   "metadata": {},
   "source": [
    "_____\n",
    "**Go through the string below and if the length of a word is even print \"even!\"**"
   ]
  },
  {
   "cell_type": "code",
   "execution_count": null,
   "metadata": {},
   "outputs": [],
   "source": [
    "st = 'Print every word in this sentence that has an even number of letters'"
   ]
  },
  {
   "cell_type": "code",
   "execution_count": 18,
   "metadata": {},
   "outputs": [
    {
     "data": {
      "text/plain": [
       "['only', 'that', 'with', 'in', 'this', 'sentence']"
      ]
     },
     "execution_count": 18,
     "metadata": {},
     "output_type": "execute_result"
    }
   ],
   "source": [
    "[word for word in st.split(' ') if len(word)%2 == 0]"
   ]
  },
  {
   "cell_type": "markdown",
   "metadata": {},
   "source": [
    "____\n",
    "**Write a program that prints the integers from 1 to 100. But for multiples of three print \"Fizz\" instead of the number, and for the multiples of five print \"Buzz\". For numbers which are multiples of both three and five print \"FizzBuzz\".**"
   ]
  },
  {
   "cell_type": "code",
   "execution_count": 26,
   "metadata": {},
   "outputs": [
    {
     "name": "stdout",
     "output_type": "stream",
     "text": [
      "0 is FizzBuzz\n",
      "1 is just a number\n",
      "2 is just a number\n",
      "3 is Fizz\n",
      "4 is just a number\n",
      "5 is Buzz\n",
      "6 is Fizz\n",
      "7 is just a number\n",
      "8 is just a number\n",
      "9 is Fizz\n",
      "10 is Buzz\n",
      "11 is just a number\n",
      "12 is Fizz\n",
      "13 is just a number\n",
      "14 is just a number\n",
      "15 is FizzBuzz\n",
      "16 is just a number\n",
      "17 is just a number\n",
      "18 is Fizz\n",
      "19 is just a number\n",
      "20 is Buzz\n",
      "21 is Fizz\n",
      "22 is just a number\n",
      "23 is just a number\n",
      "24 is Fizz\n",
      "25 is Buzz\n",
      "26 is just a number\n",
      "27 is Fizz\n",
      "28 is just a number\n",
      "29 is just a number\n",
      "30 is FizzBuzz\n",
      "31 is just a number\n",
      "32 is just a number\n",
      "33 is Fizz\n",
      "34 is just a number\n",
      "35 is Buzz\n",
      "36 is Fizz\n",
      "37 is just a number\n",
      "38 is just a number\n",
      "39 is Fizz\n",
      "40 is Buzz\n",
      "41 is just a number\n",
      "42 is Fizz\n",
      "43 is just a number\n",
      "44 is just a number\n",
      "45 is FizzBuzz\n",
      "46 is just a number\n",
      "47 is just a number\n",
      "48 is Fizz\n",
      "49 is just a number\n",
      "50 is Buzz\n",
      "51 is Fizz\n",
      "52 is just a number\n",
      "53 is just a number\n",
      "54 is Fizz\n",
      "55 is Buzz\n",
      "56 is just a number\n",
      "57 is Fizz\n",
      "58 is just a number\n",
      "59 is just a number\n",
      "60 is FizzBuzz\n",
      "61 is just a number\n",
      "62 is just a number\n",
      "63 is Fizz\n",
      "64 is just a number\n",
      "65 is Buzz\n",
      "66 is Fizz\n",
      "67 is just a number\n",
      "68 is just a number\n",
      "69 is Fizz\n",
      "70 is Buzz\n",
      "71 is just a number\n",
      "72 is Fizz\n",
      "73 is just a number\n",
      "74 is just a number\n",
      "75 is FizzBuzz\n",
      "76 is just a number\n",
      "77 is just a number\n",
      "78 is Fizz\n",
      "79 is just a number\n",
      "80 is Buzz\n",
      "81 is Fizz\n",
      "82 is just a number\n",
      "83 is just a number\n",
      "84 is Fizz\n",
      "85 is Buzz\n",
      "86 is just a number\n",
      "87 is Fizz\n",
      "88 is just a number\n",
      "89 is just a number\n",
      "90 is FizzBuzz\n",
      "91 is just a number\n",
      "92 is just a number\n",
      "93 is Fizz\n",
      "94 is just a number\n",
      "95 is Buzz\n",
      "96 is Fizz\n",
      "97 is just a number\n",
      "98 is just a number\n",
      "99 is Fizz\n"
     ]
    }
   ],
   "source": [
    "for number in range(100):\n",
    "    if number%3 == 0 and number%5 == 0:\n",
    "        print ('{} is FizzBuzz'.format(number))\n",
    "    elif number%3 == 0:\n",
    "        print ('{} is Fizz'.format(number))   \n",
    "    elif number%5 == 0:\n",
    "        print ('{} is Buzz'.format(number))\n",
    "    else:\n",
    "        print ('{} is just a number'.format(number))"
   ]
  },
  {
   "cell_type": "markdown",
   "metadata": {},
   "source": [
    "____\n",
    "**Use List Comprehension to create a list of the first letters of every word in the string below:**"
   ]
  },
  {
   "cell_type": "code",
   "execution_count": 36,
   "metadata": {},
   "outputs": [],
   "source": [
    "st = 'Create a list of the first letters of every word in this string'"
   ]
  },
  {
   "cell_type": "code",
   "execution_count": 37,
   "metadata": {},
   "outputs": [
    {
     "data": {
      "text/plain": [
       "['C', 'a', 'l', 'o', 't', 'f', 'l', 'o', 'e', 'w', 'i', 't', 's']"
      ]
     },
     "execution_count": 37,
     "metadata": {},
     "output_type": "execute_result"
    }
   ],
   "source": [
    "[l[0] for l in [word for word in st.split(' ') ]]"
   ]
  },
  {
   "cell_type": "markdown",
   "metadata": {},
   "source": [
    "### Great Job!"
   ]
  }
 ],
 "metadata": {
  "kernelspec": {
   "display_name": "Python 3",
   "language": "python",
   "name": "python3"
  },
  "language_info": {
   "codemirror_mode": {
    "name": "ipython",
    "version": 3
   },
   "file_extension": ".py",
   "mimetype": "text/x-python",
   "name": "python",
   "nbconvert_exporter": "python",
   "pygments_lexer": "ipython3",
   "version": "3.6.5"
  }
 },
 "nbformat": 4,
 "nbformat_minor": 1
}
